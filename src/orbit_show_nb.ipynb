{
 "cells": [
  {
   "cell_type": "code",
   "execution_count": 2,
   "metadata": {},
   "outputs": [],
   "source": [
    "import plotly.graph_objects as go\n",
    "import numpy as np\n",
    "import dask.dataframe as dd\n",
    "import matplotlib.pyplot as plt\n",
    "import os\n",
    "import pandas as pd\n",
    "import time\n",
    "\n",
    "from itertools import product, combinations\n",
    "from mpl_toolkits.mplot3d import Axes3D\n",
    "from matplotlib.patches import FancyArrowPatch\n",
    "from mpl_toolkits.mplot3d import proj3d\n",
    "from plotly.subplots import make_subplots\n",
    "\n",
    "\n",
    "class Arrow3D(FancyArrowPatch):\n",
    "    def __init__(self, xs, ys, zs, *args, **kwargs):\n",
    "        FancyArrowPatch.__init__(self, (0, 0), (0, 0), *args, **kwargs)\n",
    "        self._verts3d = xs, ys, zs\n",
    "\n",
    "    def draw(self, renderer):\n",
    "        xs3d, ys3d, zs3d = self._verts3d\n",
    "        xs, ys, zs = proj3d.proj_transform(xs3d, ys3d, zs3d, renderer.M)\n",
    "        self.set_positions((xs[0], ys[0]), (xs[1], ys[1]))\n",
    "        FancyArrowPatch.draw(self, renderer)\n",
    "\n",
    "\n",
    "class SolarOrbit(object):\n",
    "    # initiate a class\n",
    "    def __init__(self, centre_name, object_name, frame):\n",
    "        self.centre_name = centre_name\n",
    "        self.object_name = object_name\n",
    "        self.frame = frame\n",
    "\n",
    "\n",
    "    def get_position_vector(self, df):\n",
    "        self.jdtt = df['rcv_time'].compute().to_numpy()\n",
    "        self.xpos = df['xpos_e2s'].compute().to_numpy()\n",
    "        self.ypos = df['ypos_e2s'].compute().to_numpy()\n",
    "        self.zpos = df['zpos_e2s'].compute().to_numpy()\n",
    "\n",
    "\n",
    "    def make_sun_centre(self):\n",
    "        if self.object_name == 'sun':\n",
    "            self.xpos = self.xpos * (-1.0)\n",
    "            self.ypos = self.ypos * (-1.0)\n",
    "            self.zpos = self.zpos * (-1.0)\n",
    "            self.object_name = self.centre_name\n",
    "            self.centre_name = 'sun'\n",
    "\n",
    "\n",
    "    def get_satellite_trajectory(self, df):\n",
    "        self.utc_time = df['rcv_time'].compute().to_numpy()\n",
    "        self.tra_x_i = df['xpos_i'].compute().to_numpy()\n",
    "        self.tra_y_i = df['ypos_i'].compute().to_numpy()\n",
    "        self.tra_z_i = df['zpos_i'].compute().to_numpy()\n",
    "        if self.tra_x_i.__len__() != self.xpos.__len__():\n",
    "            raise ValueError('The lengths of the trajectory data and the \\\n",
    "                             vector date do not conform')\n",
    "\n",
    "\n",
    "    def normalise_tractory(self):\n",
    "        length_vector = np.linalg.norm(np.c_[self.tra_x_i, self.tra_y_i, self.tra_z_i], axis=1)\n",
    "        self.tra_x_i = self.tra_x_i / length_vector\n",
    "        self.tra_y_i = self.tra_y_i / length_vector\n",
    "        self.tra_z_i = self.tra_z_i / length_vector\n",
    "\n",
    "\n",
    "class InputFile(object):\n",
    "    # define a class named InputFile\n",
    "    def __init__(self, flag, year, month, dir_path):\n",
    "        self.flag = flag\n",
    "        self.month = month\n",
    "        self.dir_path = dir_path\n",
    "        self.year = year\n",
    "\n",
    "    # return all the attitude file paths\n",
    "    def io_file_paths(self):\n",
    "        \"\"\" This is a function to return the file paths for the flag data.\n",
    "\n",
    "        Args:\n",
    "            flag (str): the flag indicating file type\n",
    "\n",
    "        Return:\n",
    "            path_list (string array):\n",
    "        \"\"\"\n",
    "        if self.month < 10:\n",
    "            month_str = '0' + str(self.month)\n",
    "        else:\n",
    "            month_str = str(self.month)\n",
    "\n",
    "        rootdir = self.dir_path + month_str\n",
    "\n",
    "        self.path_list = []\n",
    "        list_file = os.listdir(rootdir)\n",
    "        for i in range(0, len(list_file)):\n",
    "            com_path = os.path.join(rootdir, list_file[i])\n",
    "            if os.path.isfile(com_path):\n",
    "                if (self.flag in com_path):\n",
    "                    if 'swp' not in com_path:  # prevent vim openness intercepting\n",
    "                        self.path_list.append(com_path)\n",
    "\n",
    "        self.days = self.path_list.__len__()\n",
    "\n",
    "        try:\n",
    "            if self.flag in ['0333', '0866']:\n",
    "                # extract the year of this directory to check it's leap year or not\n",
    "                year_this_month = int(self.path_list[0][-11: -7])\n",
    "                # extract the month to obtain the date in this month to check whether the input files are complete\n",
    "                month_this_month = int(self.path_list[0][-6: -4])\n",
    "\n",
    "            # output file name\n",
    "            self.output_filename = '..//output//' + month_str + '//taiji-01-0811-attitude-' + \\\n",
    "                str(year_this_month) + '-' + month_str + '.txt'\n",
    "        except:\n",
    "            raise ValueError('The format of the input file(s) is not correct')\n",
    "\n",
    "        return self.path_list, self.output_filename, self.days\n",
    "\n",
    "    # read attitude data from files\n",
    "\n",
    "    def read_data(self, flag):\n",
    "        \"\"\" This is a function to read attitude data from the files. Due to the vast differences for\n",
    "            different file types, the read_file_type_data function is varied from type to type\n",
    "\n",
    "        Args:\n",
    "            filepaths (string array): the string array containing the attitude file paths\n",
    "        \"\"\"\n",
    "\n",
    "        # hedaer dictionary for different files\n",
    "        header_dict = {'0811': ['卫星时间', '无拖曳与姿态控制工作模式', '姿态确定模式', '角速度确定模式',\n",
    "                                '轨道有效标志', '保留1', '陀螺已连续积分时间(s)', '保留2', '冷推控制模式', '量轮控制模式',\n",
    "                                '磁力矩器控制模式', '自主转入对地定向使能状态', '冷气微推力器速率阻尼允许/禁止状态',\n",
    "                                '星敏仲裁屏蔽状态', 'Wbi 磁控速率阻尼允许/禁止状态', '双星敏定姿允许/禁止状态',\n",
    "                                '保留3', '保留4', '星敏感器角速度工作状态字', '进安全模式原因标识',\n",
    "                                '用于控制的本体系太阳矢量状态', '用于控制的本体系地磁矢量状态', '星敏感器四元数工作状态字',\n",
    "                                '光纤陀螺工作状态字', '太敏工作状态字', '磁强计工作状态字', '保留5', '保留6', '保留7', '保留8',\n",
    "                                '磁力矩器输出屏蔽状态', '磁力矩器 X 轴极性', '磁力矩器 Y 轴极性', '磁力矩器 Z 轴极性',\n",
    "                                '磁力矩器发出指令电压 X大小', '磁力矩器发出指令电压 Y大小', '磁力矩器发出指令电压 Z大小',\n",
    "                                '磁力矩器发出指令电压 X方向', '磁力矩器发出指令电压 Y方向', '磁力矩器发出指令电压 Z方向',\n",
    "                                '动量轮工作状态', '动量轮转速有效标志', '动量轮通讯状态标志', '星敏 A 接口状态字',\n",
    "                                '星敏 A 单机状态字', '星敏 B 接口状态字', '星敏 B 单机状态字', '陀螺 A 接口状态字',\n",
    "                                '陀螺 A 单机状态字', '陀螺 B 接口状态字', '陀螺 B 单机状态字', '冷气微推力器 1 工作状态',\n",
    "                                '冷气微推力器 2 工作状态', '冷气微推力器 3 工作状态', '冷气微推力器 4 工作状态',\n",
    "                                '冷气微推力器 5 工作状态', '冷气微推力器 6 工作状态', '冷气微推力器 7 工作状态',\n",
    "                                '冷气微推力器 8 工作状态', '冷气微推力器输出屏蔽状态', '冷气微推力器 1 指令喷气时长(ms)',\n",
    "                                '冷气微推力器 2 指令喷气时长(ms)', '冷气微推力器 3 指令喷气时长(ms)',\n",
    "                                '冷气微推力器 4 指令喷气时长(ms)', '冷气微推力器 5 指令喷气时长(ms)',\n",
    "                                '冷气微推力器 6 指令喷气时长(ms)', '冷气微推力器 7 指令喷气时长(ms)',\n",
    "                                '冷气微推力器 8 指令喷气时长(ms)', '太阳矢量与-Yb 轴的夹角', '轨道系姿态角 X',\n",
    "                                '轨道系姿态角 Y', '轨道系姿态角 Z', '惯性系姿态角速度 X', '惯性系姿态角速度 Y',\n",
    "                                '惯性系姿态角速度 Z', '轨道系角速度 Wbox', '轨道系角速度 Wboy', '轨道系角速度 Wboz',\n",
    "                                '导引律控制坐标系欧拉角X', '导引律控制坐标系欧拉角Y', '导引律控制坐标系欧拉角Z',\n",
    "                                '惯性系姿态角 X', '惯性系姿态角 Y', '惯性系姿态角 Z', '本体系磁矢量 X', '本体系磁矢量 Y',\n",
    "                                '本体系磁矢量 Z', '本体系太阳矢量 X', '本体系太阳矢量 Y', '本体系太阳矢量 Z', 'WTF',\n",
    "                                'WTF1', 'WTF2'],\n",
    "                       '0111': ['rcv_time', 'eps_time'],\n",
    "                       '0333': ['rcv_time', 'xpos_e2s', 'ypos_e2s', 'zpos_e2s'],\n",
    "                       '0866': ['rcv_time', 'xpos_i', 'ypos_i', 'zpos_i', 'rxvel_i', 'ryvel_i', 'rzvel_i']}\n",
    "\n",
    "        # the dtype for different columns\n",
    "        dtype_dict = {'0811': {'卫星时间': str, '惯性系姿态角 X': np.float64,\n",
    "                               '惯性系姿态角 Y': np.float64, '惯性系姿态角 Z': np.float64,\n",
    "                               '轨道系姿态角 X': np.float64, '轨道系姿态角 Y': np.float64,\n",
    "                               '轨道系姿态角 Z': np.float64},\n",
    "                      '0111': {'rcv_time': np.float64, 'eps_time': np.float64},\n",
    "                      '0333': np.float64,\n",
    "                      '0866': np.float64}\n",
    "\n",
    "        # the new column\n",
    "        new_header_dict = {'0811': ['rcv_time', 'igrf_eul_x', 'igrf_eul_y', 'igrf_eul_z',\n",
    "                                    'tf_eul_x', 'tf_eul_y', 'tf_eul_z'],\n",
    "                           '0111': ['rcv_time', 'eps_time'],\n",
    "                           '0333': ['rcv_time', 'xpos_e2s', 'ypos_e2s', 'zpos_e2s'],\n",
    "                           '0866': ['rcv_time', 'xpos_i', 'ypos_i', 'zpos_i', 'rxvel_i', 'ryvel_i', 'rzvel_i']}\n",
    "\n",
    "        # used columns\n",
    "        used_column_dict = {'0811': ['卫星时间', '惯性系姿态角 X', '惯性系姿态角 Y', '惯性系姿态角 Z',\n",
    "                                     '轨道系姿态角 X', '轨道系姿态角 Y', '轨道系姿态角 Z'],\n",
    "                            '0111': ['rcv_time', 'eps_time'],\n",
    "                            '0333': ['rcv_time', 'xpos_e2s', 'ypos_e2s', 'zpos_e2s'],\n",
    "                            '0866': ['rcv_time', 'xpos_i', 'ypos_i', 'zpos_i', 'rxvel_i', 'ryvel_i', 'rzvel_i']}\n",
    "\n",
    "        # sep dictionary\n",
    "        sep_dict = {'0811': ',', '0111': '\\s+', '0333': '\\s+', '0866': '\\s+'}\n",
    "\n",
    "        # skiprow\n",
    "        skiprows_dict = {'0811': 2, '0111': 31, '0333': 0, '0866': 50}\n",
    "        self.df = dd.read_csv(urlpath=self.path_list, sep=sep_dict[flag], header=None,\n",
    "                              engine='c', skiprows=skiprows_dict[flag],\n",
    "                              storage_options=dict(auto_mkdir=False), names=header_dict[flag],\n",
    "                              dtype=dtype_dict[flag], encoding='gb2312')\n",
    "        self.df = self.df[used_column_dict[flag]]\n",
    "        self.df = self.df.rename(columns=dict(\n",
    "            zip(self.df.columns, new_header_dict[flag])))\n",
    "        self.df = self.df.drop_duplicates(subset=['rcv_time'])\n",
    "\n",
    "        return self.df\n",
    "\n",
    "\n",
    "def get_run_time(func):\n",
    "    def call_func(*args, **kwargs):\n",
    "        begin_time = time.time()\n",
    "        ret = func(*args, **kwargs)\n",
    "        end_time = time.time()\n",
    "        run_time = end_time - begin_time\n",
    "        print(str(func.__name__) + \"函数运行时间为\" + str(run_time))\n",
    "        return ret\n",
    "    return call_func\n",
    "\n",
    "\n",
    "def axisEqual3D(ax):\n",
    "    extents = np.array([getattr(ax, 'get_{}lim'.format(dim))()\n",
    "                        for dim in 'xyz'])\n",
    "    sz = extents[:, 1] - extents[:, 0]\n",
    "    centers = np.mean(extents, axis=1)\n",
    "    maxsize = max(abs(sz))\n",
    "    r = maxsize / 2\n",
    "    for ctr, dim in zip(centers, 'xyz'):\n",
    "        getattr(ax, 'set_{}lim'.format(dim))(ctr - 3 * r, ctr + 3 * r)"
   ]
  },
  {
   "cell_type": "code",
   "execution_count": 22,
   "metadata": {},
   "outputs": [
    {
     "data": {
      "application/vnd.plotly.v1+json": {
       "config": {
        "plotlyServerURL": "https://plot.ly"
       },
       "data": [
        {
         "type": "surface",
         "x": [
          1
         ],
         "y": [
          1
         ],
         "z": [
          1
         ]
        }
       ],
       "layout": {
        "template": {
         "data": {
          "bar": [
           {
            "error_x": {
             "color": "#2a3f5f"
            },
            "error_y": {
             "color": "#2a3f5f"
            },
            "marker": {
             "line": {
              "color": "#E5ECF6",
              "width": 0.5
             }
            },
            "type": "bar"
           }
          ],
          "barpolar": [
           {
            "marker": {
             "line": {
              "color": "#E5ECF6",
              "width": 0.5
             }
            },
            "type": "barpolar"
           }
          ],
          "carpet": [
           {
            "aaxis": {
             "endlinecolor": "#2a3f5f",
             "gridcolor": "white",
             "linecolor": "white",
             "minorgridcolor": "white",
             "startlinecolor": "#2a3f5f"
            },
            "baxis": {
             "endlinecolor": "#2a3f5f",
             "gridcolor": "white",
             "linecolor": "white",
             "minorgridcolor": "white",
             "startlinecolor": "#2a3f5f"
            },
            "type": "carpet"
           }
          ],
          "choropleth": [
           {
            "colorbar": {
             "outlinewidth": 0,
             "ticks": ""
            },
            "type": "choropleth"
           }
          ],
          "contour": [
           {
            "colorbar": {
             "outlinewidth": 0,
             "ticks": ""
            },
            "colorscale": [
             [
              0,
              "#0d0887"
             ],
             [
              0.1111111111111111,
              "#46039f"
             ],
             [
              0.2222222222222222,
              "#7201a8"
             ],
             [
              0.3333333333333333,
              "#9c179e"
             ],
             [
              0.4444444444444444,
              "#bd3786"
             ],
             [
              0.5555555555555556,
              "#d8576b"
             ],
             [
              0.6666666666666666,
              "#ed7953"
             ],
             [
              0.7777777777777778,
              "#fb9f3a"
             ],
             [
              0.8888888888888888,
              "#fdca26"
             ],
             [
              1,
              "#f0f921"
             ]
            ],
            "type": "contour"
           }
          ],
          "contourcarpet": [
           {
            "colorbar": {
             "outlinewidth": 0,
             "ticks": ""
            },
            "type": "contourcarpet"
           }
          ],
          "heatmap": [
           {
            "colorbar": {
             "outlinewidth": 0,
             "ticks": ""
            },
            "colorscale": [
             [
              0,
              "#0d0887"
             ],
             [
              0.1111111111111111,
              "#46039f"
             ],
             [
              0.2222222222222222,
              "#7201a8"
             ],
             [
              0.3333333333333333,
              "#9c179e"
             ],
             [
              0.4444444444444444,
              "#bd3786"
             ],
             [
              0.5555555555555556,
              "#d8576b"
             ],
             [
              0.6666666666666666,
              "#ed7953"
             ],
             [
              0.7777777777777778,
              "#fb9f3a"
             ],
             [
              0.8888888888888888,
              "#fdca26"
             ],
             [
              1,
              "#f0f921"
             ]
            ],
            "type": "heatmap"
           }
          ],
          "heatmapgl": [
           {
            "colorbar": {
             "outlinewidth": 0,
             "ticks": ""
            },
            "colorscale": [
             [
              0,
              "#0d0887"
             ],
             [
              0.1111111111111111,
              "#46039f"
             ],
             [
              0.2222222222222222,
              "#7201a8"
             ],
             [
              0.3333333333333333,
              "#9c179e"
             ],
             [
              0.4444444444444444,
              "#bd3786"
             ],
             [
              0.5555555555555556,
              "#d8576b"
             ],
             [
              0.6666666666666666,
              "#ed7953"
             ],
             [
              0.7777777777777778,
              "#fb9f3a"
             ],
             [
              0.8888888888888888,
              "#fdca26"
             ],
             [
              1,
              "#f0f921"
             ]
            ],
            "type": "heatmapgl"
           }
          ],
          "histogram": [
           {
            "marker": {
             "colorbar": {
              "outlinewidth": 0,
              "ticks": ""
             }
            },
            "type": "histogram"
           }
          ],
          "histogram2d": [
           {
            "colorbar": {
             "outlinewidth": 0,
             "ticks": ""
            },
            "colorscale": [
             [
              0,
              "#0d0887"
             ],
             [
              0.1111111111111111,
              "#46039f"
             ],
             [
              0.2222222222222222,
              "#7201a8"
             ],
             [
              0.3333333333333333,
              "#9c179e"
             ],
             [
              0.4444444444444444,
              "#bd3786"
             ],
             [
              0.5555555555555556,
              "#d8576b"
             ],
             [
              0.6666666666666666,
              "#ed7953"
             ],
             [
              0.7777777777777778,
              "#fb9f3a"
             ],
             [
              0.8888888888888888,
              "#fdca26"
             ],
             [
              1,
              "#f0f921"
             ]
            ],
            "type": "histogram2d"
           }
          ],
          "histogram2dcontour": [
           {
            "colorbar": {
             "outlinewidth": 0,
             "ticks": ""
            },
            "colorscale": [
             [
              0,
              "#0d0887"
             ],
             [
              0.1111111111111111,
              "#46039f"
             ],
             [
              0.2222222222222222,
              "#7201a8"
             ],
             [
              0.3333333333333333,
              "#9c179e"
             ],
             [
              0.4444444444444444,
              "#bd3786"
             ],
             [
              0.5555555555555556,
              "#d8576b"
             ],
             [
              0.6666666666666666,
              "#ed7953"
             ],
             [
              0.7777777777777778,
              "#fb9f3a"
             ],
             [
              0.8888888888888888,
              "#fdca26"
             ],
             [
              1,
              "#f0f921"
             ]
            ],
            "type": "histogram2dcontour"
           }
          ],
          "mesh3d": [
           {
            "colorbar": {
             "outlinewidth": 0,
             "ticks": ""
            },
            "type": "mesh3d"
           }
          ],
          "parcoords": [
           {
            "line": {
             "colorbar": {
              "outlinewidth": 0,
              "ticks": ""
             }
            },
            "type": "parcoords"
           }
          ],
          "pie": [
           {
            "automargin": true,
            "type": "pie"
           }
          ],
          "scatter": [
           {
            "marker": {
             "colorbar": {
              "outlinewidth": 0,
              "ticks": ""
             }
            },
            "type": "scatter"
           }
          ],
          "scatter3d": [
           {
            "line": {
             "colorbar": {
              "outlinewidth": 0,
              "ticks": ""
             }
            },
            "marker": {
             "colorbar": {
              "outlinewidth": 0,
              "ticks": ""
             }
            },
            "type": "scatter3d"
           }
          ],
          "scattercarpet": [
           {
            "marker": {
             "colorbar": {
              "outlinewidth": 0,
              "ticks": ""
             }
            },
            "type": "scattercarpet"
           }
          ],
          "scattergeo": [
           {
            "marker": {
             "colorbar": {
              "outlinewidth": 0,
              "ticks": ""
             }
            },
            "type": "scattergeo"
           }
          ],
          "scattergl": [
           {
            "marker": {
             "colorbar": {
              "outlinewidth": 0,
              "ticks": ""
             }
            },
            "type": "scattergl"
           }
          ],
          "scattermapbox": [
           {
            "marker": {
             "colorbar": {
              "outlinewidth": 0,
              "ticks": ""
             }
            },
            "type": "scattermapbox"
           }
          ],
          "scatterpolar": [
           {
            "marker": {
             "colorbar": {
              "outlinewidth": 0,
              "ticks": ""
             }
            },
            "type": "scatterpolar"
           }
          ],
          "scatterpolargl": [
           {
            "marker": {
             "colorbar": {
              "outlinewidth": 0,
              "ticks": ""
             }
            },
            "type": "scatterpolargl"
           }
          ],
          "scatterternary": [
           {
            "marker": {
             "colorbar": {
              "outlinewidth": 0,
              "ticks": ""
             }
            },
            "type": "scatterternary"
           }
          ],
          "surface": [
           {
            "colorbar": {
             "outlinewidth": 0,
             "ticks": ""
            },
            "colorscale": [
             [
              0,
              "#0d0887"
             ],
             [
              0.1111111111111111,
              "#46039f"
             ],
             [
              0.2222222222222222,
              "#7201a8"
             ],
             [
              0.3333333333333333,
              "#9c179e"
             ],
             [
              0.4444444444444444,
              "#bd3786"
             ],
             [
              0.5555555555555556,
              "#d8576b"
             ],
             [
              0.6666666666666666,
              "#ed7953"
             ],
             [
              0.7777777777777778,
              "#fb9f3a"
             ],
             [
              0.8888888888888888,
              "#fdca26"
             ],
             [
              1,
              "#f0f921"
             ]
            ],
            "type": "surface"
           }
          ],
          "table": [
           {
            "cells": {
             "fill": {
              "color": "#EBF0F8"
             },
             "line": {
              "color": "white"
             }
            },
            "header": {
             "fill": {
              "color": "#C8D4E3"
             },
             "line": {
              "color": "white"
             }
            },
            "type": "table"
           }
          ]
         },
         "layout": {
          "annotationdefaults": {
           "arrowcolor": "#2a3f5f",
           "arrowhead": 0,
           "arrowwidth": 1
          },
          "coloraxis": {
           "colorbar": {
            "outlinewidth": 0,
            "ticks": ""
           }
          },
          "colorscale": {
           "diverging": [
            [
             0,
             "#8e0152"
            ],
            [
             0.1,
             "#c51b7d"
            ],
            [
             0.2,
             "#de77ae"
            ],
            [
             0.3,
             "#f1b6da"
            ],
            [
             0.4,
             "#fde0ef"
            ],
            [
             0.5,
             "#f7f7f7"
            ],
            [
             0.6,
             "#e6f5d0"
            ],
            [
             0.7,
             "#b8e186"
            ],
            [
             0.8,
             "#7fbc41"
            ],
            [
             0.9,
             "#4d9221"
            ],
            [
             1,
             "#276419"
            ]
           ],
           "sequential": [
            [
             0,
             "#0d0887"
            ],
            [
             0.1111111111111111,
             "#46039f"
            ],
            [
             0.2222222222222222,
             "#7201a8"
            ],
            [
             0.3333333333333333,
             "#9c179e"
            ],
            [
             0.4444444444444444,
             "#bd3786"
            ],
            [
             0.5555555555555556,
             "#d8576b"
            ],
            [
             0.6666666666666666,
             "#ed7953"
            ],
            [
             0.7777777777777778,
             "#fb9f3a"
            ],
            [
             0.8888888888888888,
             "#fdca26"
            ],
            [
             1,
             "#f0f921"
            ]
           ],
           "sequentialminus": [
            [
             0,
             "#0d0887"
            ],
            [
             0.1111111111111111,
             "#46039f"
            ],
            [
             0.2222222222222222,
             "#7201a8"
            ],
            [
             0.3333333333333333,
             "#9c179e"
            ],
            [
             0.4444444444444444,
             "#bd3786"
            ],
            [
             0.5555555555555556,
             "#d8576b"
            ],
            [
             0.6666666666666666,
             "#ed7953"
            ],
            [
             0.7777777777777778,
             "#fb9f3a"
            ],
            [
             0.8888888888888888,
             "#fdca26"
            ],
            [
             1,
             "#f0f921"
            ]
           ]
          },
          "colorway": [
           "#636efa",
           "#EF553B",
           "#00cc96",
           "#ab63fa",
           "#FFA15A",
           "#19d3f3",
           "#FF6692",
           "#B6E880",
           "#FF97FF",
           "#FECB52"
          ],
          "font": {
           "color": "#2a3f5f"
          },
          "geo": {
           "bgcolor": "white",
           "lakecolor": "white",
           "landcolor": "#E5ECF6",
           "showlakes": true,
           "showland": true,
           "subunitcolor": "white"
          },
          "hoverlabel": {
           "align": "left"
          },
          "hovermode": "closest",
          "mapbox": {
           "style": "light"
          },
          "paper_bgcolor": "white",
          "plot_bgcolor": "#E5ECF6",
          "polar": {
           "angularaxis": {
            "gridcolor": "white",
            "linecolor": "white",
            "ticks": ""
           },
           "bgcolor": "#E5ECF6",
           "radialaxis": {
            "gridcolor": "white",
            "linecolor": "white",
            "ticks": ""
           }
          },
          "scene": {
           "xaxis": {
            "backgroundcolor": "#E5ECF6",
            "gridcolor": "white",
            "gridwidth": 2,
            "linecolor": "white",
            "showbackground": true,
            "ticks": "",
            "zerolinecolor": "white"
           },
           "yaxis": {
            "backgroundcolor": "#E5ECF6",
            "gridcolor": "white",
            "gridwidth": 2,
            "linecolor": "white",
            "showbackground": true,
            "ticks": "",
            "zerolinecolor": "white"
           },
           "zaxis": {
            "backgroundcolor": "#E5ECF6",
            "gridcolor": "white",
            "gridwidth": 2,
            "linecolor": "white",
            "showbackground": true,
            "ticks": "",
            "zerolinecolor": "white"
           }
          },
          "shapedefaults": {
           "line": {
            "color": "#2a3f5f"
           }
          },
          "ternary": {
           "aaxis": {
            "gridcolor": "white",
            "linecolor": "white",
            "ticks": ""
           },
           "baxis": {
            "gridcolor": "white",
            "linecolor": "white",
            "ticks": ""
           },
           "bgcolor": "#E5ECF6",
           "caxis": {
            "gridcolor": "white",
            "linecolor": "white",
            "ticks": ""
           }
          },
          "title": {
           "x": 0.05
          },
          "xaxis": {
           "automargin": true,
           "gridcolor": "white",
           "linecolor": "white",
           "ticks": "",
           "title": {
            "standoff": 15
           },
           "zerolinecolor": "white",
           "zerolinewidth": 2
          },
          "yaxis": {
           "automargin": true,
           "gridcolor": "white",
           "linecolor": "white",
           "ticks": "",
           "title": {
            "standoff": 15
           },
           "zerolinecolor": "white",
           "zerolinewidth": 2
          }
         }
        }
       }
      },
      "text/html": [
       "<div>                            <div id=\"88583866-cef9-4c4b-bfbd-20a5fbc5a067\" class=\"plotly-graph-div\" style=\"height:525px; width:100%;\"></div>            <script type=\"text/javascript\">                require([\"plotly\"], function(Plotly) {                    window.PLOTLYENV=window.PLOTLYENV || {};                                    if (document.getElementById(\"88583866-cef9-4c4b-bfbd-20a5fbc5a067\")) {                    Plotly.newPlot(                        \"88583866-cef9-4c4b-bfbd-20a5fbc5a067\",                        [{\"type\": \"surface\", \"x\": [1], \"y\": [1], \"z\": [1]}],                        {\"template\": {\"data\": {\"bar\": [{\"error_x\": {\"color\": \"#2a3f5f\"}, \"error_y\": {\"color\": \"#2a3f5f\"}, \"marker\": {\"line\": {\"color\": \"#E5ECF6\", \"width\": 0.5}}, \"type\": \"bar\"}], \"barpolar\": [{\"marker\": {\"line\": {\"color\": \"#E5ECF6\", \"width\": 0.5}}, \"type\": \"barpolar\"}], \"carpet\": [{\"aaxis\": {\"endlinecolor\": \"#2a3f5f\", \"gridcolor\": \"white\", \"linecolor\": \"white\", \"minorgridcolor\": \"white\", \"startlinecolor\": \"#2a3f5f\"}, \"baxis\": {\"endlinecolor\": \"#2a3f5f\", \"gridcolor\": \"white\", \"linecolor\": \"white\", \"minorgridcolor\": \"white\", \"startlinecolor\": \"#2a3f5f\"}, \"type\": \"carpet\"}], \"choropleth\": [{\"colorbar\": {\"outlinewidth\": 0, \"ticks\": \"\"}, \"type\": \"choropleth\"}], \"contour\": [{\"colorbar\": {\"outlinewidth\": 0, \"ticks\": \"\"}, \"colorscale\": [[0.0, \"#0d0887\"], [0.1111111111111111, \"#46039f\"], [0.2222222222222222, \"#7201a8\"], [0.3333333333333333, \"#9c179e\"], [0.4444444444444444, \"#bd3786\"], [0.5555555555555556, \"#d8576b\"], [0.6666666666666666, \"#ed7953\"], [0.7777777777777778, \"#fb9f3a\"], [0.8888888888888888, \"#fdca26\"], [1.0, \"#f0f921\"]], \"type\": \"contour\"}], \"contourcarpet\": [{\"colorbar\": {\"outlinewidth\": 0, \"ticks\": \"\"}, \"type\": \"contourcarpet\"}], \"heatmap\": [{\"colorbar\": {\"outlinewidth\": 0, \"ticks\": \"\"}, \"colorscale\": [[0.0, \"#0d0887\"], [0.1111111111111111, \"#46039f\"], [0.2222222222222222, \"#7201a8\"], [0.3333333333333333, \"#9c179e\"], [0.4444444444444444, \"#bd3786\"], [0.5555555555555556, \"#d8576b\"], [0.6666666666666666, \"#ed7953\"], [0.7777777777777778, \"#fb9f3a\"], [0.8888888888888888, \"#fdca26\"], [1.0, \"#f0f921\"]], \"type\": \"heatmap\"}], \"heatmapgl\": [{\"colorbar\": {\"outlinewidth\": 0, \"ticks\": \"\"}, \"colorscale\": [[0.0, \"#0d0887\"], [0.1111111111111111, \"#46039f\"], [0.2222222222222222, \"#7201a8\"], [0.3333333333333333, \"#9c179e\"], [0.4444444444444444, \"#bd3786\"], [0.5555555555555556, \"#d8576b\"], [0.6666666666666666, \"#ed7953\"], [0.7777777777777778, \"#fb9f3a\"], [0.8888888888888888, \"#fdca26\"], [1.0, \"#f0f921\"]], \"type\": \"heatmapgl\"}], \"histogram\": [{\"marker\": {\"colorbar\": {\"outlinewidth\": 0, \"ticks\": \"\"}}, \"type\": \"histogram\"}], \"histogram2d\": [{\"colorbar\": {\"outlinewidth\": 0, \"ticks\": \"\"}, \"colorscale\": [[0.0, \"#0d0887\"], [0.1111111111111111, \"#46039f\"], [0.2222222222222222, \"#7201a8\"], [0.3333333333333333, \"#9c179e\"], [0.4444444444444444, \"#bd3786\"], [0.5555555555555556, \"#d8576b\"], [0.6666666666666666, \"#ed7953\"], [0.7777777777777778, \"#fb9f3a\"], [0.8888888888888888, \"#fdca26\"], [1.0, \"#f0f921\"]], \"type\": \"histogram2d\"}], \"histogram2dcontour\": [{\"colorbar\": {\"outlinewidth\": 0, \"ticks\": \"\"}, \"colorscale\": [[0.0, \"#0d0887\"], [0.1111111111111111, \"#46039f\"], [0.2222222222222222, \"#7201a8\"], [0.3333333333333333, \"#9c179e\"], [0.4444444444444444, \"#bd3786\"], [0.5555555555555556, \"#d8576b\"], [0.6666666666666666, \"#ed7953\"], [0.7777777777777778, \"#fb9f3a\"], [0.8888888888888888, \"#fdca26\"], [1.0, \"#f0f921\"]], \"type\": \"histogram2dcontour\"}], \"mesh3d\": [{\"colorbar\": {\"outlinewidth\": 0, \"ticks\": \"\"}, \"type\": \"mesh3d\"}], \"parcoords\": [{\"line\": {\"colorbar\": {\"outlinewidth\": 0, \"ticks\": \"\"}}, \"type\": \"parcoords\"}], \"pie\": [{\"automargin\": true, \"type\": \"pie\"}], \"scatter\": [{\"marker\": {\"colorbar\": {\"outlinewidth\": 0, \"ticks\": \"\"}}, \"type\": \"scatter\"}], \"scatter3d\": [{\"line\": {\"colorbar\": {\"outlinewidth\": 0, \"ticks\": \"\"}}, \"marker\": {\"colorbar\": {\"outlinewidth\": 0, \"ticks\": \"\"}}, \"type\": \"scatter3d\"}], \"scattercarpet\": [{\"marker\": {\"colorbar\": {\"outlinewidth\": 0, \"ticks\": \"\"}}, \"type\": \"scattercarpet\"}], \"scattergeo\": [{\"marker\": {\"colorbar\": {\"outlinewidth\": 0, \"ticks\": \"\"}}, \"type\": \"scattergeo\"}], \"scattergl\": [{\"marker\": {\"colorbar\": {\"outlinewidth\": 0, \"ticks\": \"\"}}, \"type\": \"scattergl\"}], \"scattermapbox\": [{\"marker\": {\"colorbar\": {\"outlinewidth\": 0, \"ticks\": \"\"}}, \"type\": \"scattermapbox\"}], \"scatterpolar\": [{\"marker\": {\"colorbar\": {\"outlinewidth\": 0, \"ticks\": \"\"}}, \"type\": \"scatterpolar\"}], \"scatterpolargl\": [{\"marker\": {\"colorbar\": {\"outlinewidth\": 0, \"ticks\": \"\"}}, \"type\": \"scatterpolargl\"}], \"scatterternary\": [{\"marker\": {\"colorbar\": {\"outlinewidth\": 0, \"ticks\": \"\"}}, \"type\": \"scatterternary\"}], \"surface\": [{\"colorbar\": {\"outlinewidth\": 0, \"ticks\": \"\"}, \"colorscale\": [[0.0, \"#0d0887\"], [0.1111111111111111, \"#46039f\"], [0.2222222222222222, \"#7201a8\"], [0.3333333333333333, \"#9c179e\"], [0.4444444444444444, \"#bd3786\"], [0.5555555555555556, \"#d8576b\"], [0.6666666666666666, \"#ed7953\"], [0.7777777777777778, \"#fb9f3a\"], [0.8888888888888888, \"#fdca26\"], [1.0, \"#f0f921\"]], \"type\": \"surface\"}], \"table\": [{\"cells\": {\"fill\": {\"color\": \"#EBF0F8\"}, \"line\": {\"color\": \"white\"}}, \"header\": {\"fill\": {\"color\": \"#C8D4E3\"}, \"line\": {\"color\": \"white\"}}, \"type\": \"table\"}]}, \"layout\": {\"annotationdefaults\": {\"arrowcolor\": \"#2a3f5f\", \"arrowhead\": 0, \"arrowwidth\": 1}, \"coloraxis\": {\"colorbar\": {\"outlinewidth\": 0, \"ticks\": \"\"}}, \"colorscale\": {\"diverging\": [[0, \"#8e0152\"], [0.1, \"#c51b7d\"], [0.2, \"#de77ae\"], [0.3, \"#f1b6da\"], [0.4, \"#fde0ef\"], [0.5, \"#f7f7f7\"], [0.6, \"#e6f5d0\"], [0.7, \"#b8e186\"], [0.8, \"#7fbc41\"], [0.9, \"#4d9221\"], [1, \"#276419\"]], \"sequential\": [[0.0, \"#0d0887\"], [0.1111111111111111, \"#46039f\"], [0.2222222222222222, \"#7201a8\"], [0.3333333333333333, \"#9c179e\"], [0.4444444444444444, \"#bd3786\"], [0.5555555555555556, \"#d8576b\"], [0.6666666666666666, \"#ed7953\"], [0.7777777777777778, \"#fb9f3a\"], [0.8888888888888888, \"#fdca26\"], [1.0, \"#f0f921\"]], \"sequentialminus\": [[0.0, \"#0d0887\"], [0.1111111111111111, \"#46039f\"], [0.2222222222222222, \"#7201a8\"], [0.3333333333333333, \"#9c179e\"], [0.4444444444444444, \"#bd3786\"], [0.5555555555555556, \"#d8576b\"], [0.6666666666666666, \"#ed7953\"], [0.7777777777777778, \"#fb9f3a\"], [0.8888888888888888, \"#fdca26\"], [1.0, \"#f0f921\"]]}, \"colorway\": [\"#636efa\", \"#EF553B\", \"#00cc96\", \"#ab63fa\", \"#FFA15A\", \"#19d3f3\", \"#FF6692\", \"#B6E880\", \"#FF97FF\", \"#FECB52\"], \"font\": {\"color\": \"#2a3f5f\"}, \"geo\": {\"bgcolor\": \"white\", \"lakecolor\": \"white\", \"landcolor\": \"#E5ECF6\", \"showlakes\": true, \"showland\": true, \"subunitcolor\": \"white\"}, \"hoverlabel\": {\"align\": \"left\"}, \"hovermode\": \"closest\", \"mapbox\": {\"style\": \"light\"}, \"paper_bgcolor\": \"white\", \"plot_bgcolor\": \"#E5ECF6\", \"polar\": {\"angularaxis\": {\"gridcolor\": \"white\", \"linecolor\": \"white\", \"ticks\": \"\"}, \"bgcolor\": \"#E5ECF6\", \"radialaxis\": {\"gridcolor\": \"white\", \"linecolor\": \"white\", \"ticks\": \"\"}}, \"scene\": {\"xaxis\": {\"backgroundcolor\": \"#E5ECF6\", \"gridcolor\": \"white\", \"gridwidth\": 2, \"linecolor\": \"white\", \"showbackground\": true, \"ticks\": \"\", \"zerolinecolor\": \"white\"}, \"yaxis\": {\"backgroundcolor\": \"#E5ECF6\", \"gridcolor\": \"white\", \"gridwidth\": 2, \"linecolor\": \"white\", \"showbackground\": true, \"ticks\": \"\", \"zerolinecolor\": \"white\"}, \"zaxis\": {\"backgroundcolor\": \"#E5ECF6\", \"gridcolor\": \"white\", \"gridwidth\": 2, \"linecolor\": \"white\", \"showbackground\": true, \"ticks\": \"\", \"zerolinecolor\": \"white\"}}, \"shapedefaults\": {\"line\": {\"color\": \"#2a3f5f\"}}, \"ternary\": {\"aaxis\": {\"gridcolor\": \"white\", \"linecolor\": \"white\", \"ticks\": \"\"}, \"baxis\": {\"gridcolor\": \"white\", \"linecolor\": \"white\", \"ticks\": \"\"}, \"bgcolor\": \"#E5ECF6\", \"caxis\": {\"gridcolor\": \"white\", \"linecolor\": \"white\", \"ticks\": \"\"}}, \"title\": {\"x\": 0.05}, \"xaxis\": {\"automargin\": true, \"gridcolor\": \"white\", \"linecolor\": \"white\", \"ticks\": \"\", \"title\": {\"standoff\": 15}, \"zerolinecolor\": \"white\", \"zerolinewidth\": 2}, \"yaxis\": {\"automargin\": true, \"gridcolor\": \"white\", \"linecolor\": \"white\", \"ticks\": \"\", \"title\": {\"standoff\": 15}, \"zerolinecolor\": \"white\", \"zerolinewidth\": 2}}}},                        {\"responsive\": true}                    ).then(function(){\n",
       "                            \n",
       "var gd = document.getElementById('88583866-cef9-4c4b-bfbd-20a5fbc5a067');\n",
       "var x = new MutationObserver(function (mutations, observer) {{\n",
       "        var display = window.getComputedStyle(gd).display;\n",
       "        if (!display || display === 'none') {{\n",
       "            console.log([gd, 'removed!']);\n",
       "            Plotly.purge(gd);\n",
       "            observer.disconnect();\n",
       "        }}\n",
       "}});\n",
       "\n",
       "// Listen for the removal of the full notebook cells\n",
       "var notebookContainer = gd.closest('#notebook-container');\n",
       "if (notebookContainer) {{\n",
       "    x.observe(notebookContainer, {childList: true});\n",
       "}}\n",
       "\n",
       "// Listen for the clearing of the current output cell\n",
       "var outputEl = gd.closest('.output');\n",
       "if (outputEl) {{\n",
       "    x.observe(outputEl, {childList: true});\n",
       "}}\n",
       "\n",
       "                        })                };                });            </script>        </div>"
      ]
     },
     "metadata": {},
     "output_type": "display_data"
    },
    {
     "data": {
      "image/png": "[encoded data removed]",
      "text/plain": [
       "<Figure size 3600x1800 with 1 Axes>"
      ]
     },
     "metadata": {
      "needs_background": "light"
     },
     "output_type": "display_data"
    }
   ],
   "source": [
    "def main(year, month):\n",
    "    # read Earth to Sun files\n",
    "    e2s_file = InputFile(flag='0333', year=year, month=month, dir_path='..//output//')\n",
    "    e2s_file.path_list, e2s_file.output_filename, e2s_file.days = e2s_file.io_file_paths()\n",
    "    e2s_file.df = e2s_file.read_data('0333')\n",
    "\n",
    "    # read the gcrs satellite positions file\n",
    "    posi_file = InputFile(flag='0866', year=year,\n",
    "                         month=month, dir_path='..//output//')\n",
    "    posi_file.path_list, posi_file.output_filename, posi_file.days = posi_file.io_file_paths()\n",
    "    posi_file.df = posi_file.read_data('0866')\n",
    "\n",
    "    e2s20190916 = SolarOrbit('earth', 'sun', 'gcrs')\n",
    "    e2s20190916.get_position_vector(e2s_file.df)\n",
    "    e2s20190916.make_sun_centre()\n",
    "    e2s20190916.get_satellite_trajectory(posi_file.df)\n",
    "    e2s20190916.normalise_tractory()\n",
    "    \n",
    "    u, v = np.mgrid[0: 2 * np.pi: 100j, 0: np.pi: 100j]\n",
    "    x = np.cos(u) * np.sin(v)\n",
    "    y = np.sin(u) * np.sin(v)\n",
    "    z = np.cos(v)\n",
    "    \n",
    "\n",
    "    plt.style.use(['science', 'no-latex', 'high-vis'])\n",
    "    fig = plt.figure(figsize=[50, 25])\n",
    "    ax = fig.gca(projection='3d')\n",
    "    # ax.set_aspect('auto')\n",
    "    axisEqual3D(ax)\n",
    "    ax.plot_surface(x, y, z, color='red', rstride=7, cstride=7)\n",
    "    # make the panes transparent\n",
    "    ax.xaxis.set_pane_color((1.0, 1.0, 1.0, 0.0))\n",
    "    ax.yaxis.set_pane_color((1.0, 1.0, 1.0, 0.0))\n",
    "    ax.zaxis.set_pane_color((1.0, 1.0, 1.0, 0.0))\n",
    "    # make the grid lines transparent\n",
    "    ax.xaxis._axinfo[\"grid\"]['color'] = (1, 1, 1, 0)\n",
    "    ax.yaxis._axinfo[\"grid\"]['color'] = (1, 1, 1, 0)\n",
    "    ax.zaxis._axinfo[\"grid\"]['color'] = (1, 1, 1, 0)\n",
    "    # plt.axis('off')\n",
    "    plt.grid(b=None)\n",
    "\n",
    "    # plot the earth trajectory\n",
    "    ax.plot(e2s20190916.xpos * 2, e2s20190916.ypos * 2, e2s20190916.zpos * 2, linewidth=7, label='Earth orbit')\n",
    "    ax.plot(e2s20190916.xpos * 2 + e2s20190916.tra_x_i * 0.5,\n",
    "            e2s20190916.ypos * 2 + e2s20190916.tra_y_i * 0.5,\n",
    "            e2s20190916.zpos * 2 + e2s20190916.tra_z_i * 0.5, linewidth=2, label='Satellite orbit', color='green')\n",
    "    a = Arrow3D([0, e2s20190916.xpos[10000] * 2], [0, e2s20190916.ypos[10000] * 2],\n",
    "                [0, e2s20190916.zpos[10000] * 2], mutation_scale = 20,\n",
    "                lw=1, arrowstyle=\"-|>\", color=\"k\")\n",
    "    ax.add_artist(a)\n",
    "    plt.legend()\n",
    "    # plt.show()\n",
    "    \n",
    "    fig = go.Figure(data=[go.Surface(x=[1], y=[1], z=[1])])\n",
    "    fig.update_layout()\n",
    "    fig.show()\n",
    "\n",
    "if __name__ == '__main__':\n",
    "    main(2019, 9)"
   ]
  },
  {
   "cell_type": "code",
   "execution_count": 5,
   "metadata": {},
   "outputs": [
    {
     "output_type": "error",
     "ename": "TypeError",
     "evalue": "invalid Figure property: size",
     "traceback": [
      "\u001b[0;31m---------------------------------------------------------------------------\u001b[0m",
      "\u001b[0;31mTypeError\u001b[0m                                 Traceback (most recent call last)",
      "\u001b[0;32m<ipython-input-5-0fe0734fdfaf>\u001b[0m in \u001b[0;36m<module>\u001b[0;34m\u001b[0m\n\u001b[1;32m     27\u001b[0m \u001b[0;34m\u001b[0m\u001b[0m\n\u001b[1;32m     28\u001b[0m \u001b[0;32mif\u001b[0m \u001b[0m__name__\u001b[0m \u001b[0;34m==\u001b[0m \u001b[0;34m'__main__'\u001b[0m\u001b[0;34m:\u001b[0m\u001b[0;34m\u001b[0m\u001b[0;34m\u001b[0m\u001b[0m\n\u001b[0;32m---> 29\u001b[0;31m     \u001b[0mmain\u001b[0m\u001b[0;34m(\u001b[0m\u001b[0;36m2019\u001b[0m\u001b[0;34m,\u001b[0m \u001b[0;36m9\u001b[0m\u001b[0;34m)\u001b[0m\u001b[0;34m\u001b[0m\u001b[0;34m\u001b[0m\u001b[0m\n\u001b[0m",
      "\u001b[0;32m<ipython-input-5-0fe0734fdfaf>\u001b[0m in \u001b[0;36mmain\u001b[0;34m(year, month)\u001b[0m\n\u001b[1;32m     22\u001b[0m     \u001b[0mz\u001b[0m \u001b[0;34m=\u001b[0m \u001b[0mnp\u001b[0m\u001b[0;34m.\u001b[0m\u001b[0mcos\u001b[0m\u001b[0;34m(\u001b[0m\u001b[0mv\u001b[0m\u001b[0;34m)\u001b[0m\u001b[0;34m\u001b[0m\u001b[0;34m\u001b[0m\u001b[0m\n\u001b[1;32m     23\u001b[0m \u001b[0;34m\u001b[0m\u001b[0m\n\u001b[0;32m---> 24\u001b[0;31m     \u001b[0mfig\u001b[0m \u001b[0;34m=\u001b[0m \u001b[0mgo\u001b[0m\u001b[0;34m.\u001b[0m\u001b[0mFigure\u001b[0m\u001b[0;34m(\u001b[0m\u001b[0mdata\u001b[0m\u001b[0;34m=\u001b[0m\u001b[0;34m[\u001b[0m\u001b[0mgo\u001b[0m\u001b[0;34m.\u001b[0m\u001b[0mSurface\u001b[0m\u001b[0;34m(\u001b[0m\u001b[0mx\u001b[0m\u001b[0;34m=\u001b[0m\u001b[0mx\u001b[0m\u001b[0;34m,\u001b[0m \u001b[0my\u001b[0m\u001b[0;34m=\u001b[0m\u001b[0my\u001b[0m\u001b[0;34m,\u001b[0m \u001b[0mz\u001b[0m\u001b[0;34m=\u001b[0m\u001b[0mz\u001b[0m\u001b[0;34m,\u001b[0m \u001b[0mshowscale\u001b[0m\u001b[0;34m=\u001b[0m\u001b[0;32mFalse\u001b[0m\u001b[0;34m)\u001b[0m\u001b[0;34m]\u001b[0m\u001b[0;34m,\u001b[0m \u001b[0msize\u001b[0m\u001b[0;34m=\u001b[0m\u001b[0;34m(\u001b[0m\u001b[0;36m20\u001b[0m\u001b[0;34m,\u001b[0m \u001b[0;36m10\u001b[0m\u001b[0;34m)\u001b[0m\u001b[0;34m)\u001b[0m\u001b[0;34m\u001b[0m\u001b[0;34m\u001b[0m\u001b[0m\n\u001b[0m\u001b[1;32m     25\u001b[0m     \u001b[0mfig\u001b[0m\u001b[0;34m.\u001b[0m\u001b[0mupdate_layout\u001b[0m\u001b[0;34m(\u001b[0m\u001b[0;34m)\u001b[0m\u001b[0;34m\u001b[0m\u001b[0;34m\u001b[0m\u001b[0m\n\u001b[1;32m     26\u001b[0m     \u001b[0mfig\u001b[0m\u001b[0;34m.\u001b[0m\u001b[0mshow\u001b[0m\u001b[0;34m(\u001b[0m\u001b[0;34m)\u001b[0m\u001b[0;34m\u001b[0m\u001b[0;34m\u001b[0m\u001b[0m\n",
      "\u001b[0;32m~/anaconda3/lib/python3.8/site-packages/plotly/graph_objs/_figure.py\u001b[0m in \u001b[0;36m__init__\u001b[0;34m(self, data, layout, frames, skip_invalid, **kwargs)\u001b[0m\n\u001b[1;32m    582\u001b[0m             \u001b[0;32mis\u001b[0m \u001b[0minvalid\u001b[0m \u001b[0mAND\u001b[0m \u001b[0mskip_invalid\u001b[0m \u001b[0;32mis\u001b[0m \u001b[0;32mFalse\u001b[0m\u001b[0;34m\u001b[0m\u001b[0;34m\u001b[0m\u001b[0m\n\u001b[1;32m    583\u001b[0m         \"\"\"\n\u001b[0;32m--> 584\u001b[0;31m         \u001b[0msuper\u001b[0m\u001b[0;34m(\u001b[0m\u001b[0mFigure\u001b[0m\u001b[0;34m,\u001b[0m \u001b[0mself\u001b[0m\u001b[0;34m)\u001b[0m\u001b[0;34m.\u001b[0m\u001b[0m__init__\u001b[0m\u001b[0;34m(\u001b[0m\u001b[0mdata\u001b[0m\u001b[0;34m,\u001b[0m \u001b[0mlayout\u001b[0m\u001b[0;34m,\u001b[0m \u001b[0mframes\u001b[0m\u001b[0;34m,\u001b[0m \u001b[0mskip_invalid\u001b[0m\u001b[0;34m,\u001b[0m \u001b[0;34m**\u001b[0m\u001b[0mkwargs\u001b[0m\u001b[0;34m)\u001b[0m\u001b[0;34m\u001b[0m\u001b[0;34m\u001b[0m\u001b[0m\n\u001b[0m\u001b[1;32m    585\u001b[0m \u001b[0;34m\u001b[0m\u001b[0m\n\u001b[1;32m    586\u001b[0m     def add_area(\n",
      "\u001b[0;32m~/anaconda3/lib/python3.8/site-packages/plotly/basedatatypes.py\u001b[0m in \u001b[0;36m__init__\u001b[0;34m(self, data, layout_plotly, frames, skip_invalid, **kwargs)\u001b[0m\n\u001b[1;32m    269\u001b[0m                 \u001b[0mself\u001b[0m\u001b[0;34m[\u001b[0m\u001b[0mk\u001b[0m\u001b[0;34m]\u001b[0m \u001b[0;34m=\u001b[0m \u001b[0mv\u001b[0m\u001b[0;34m\u001b[0m\u001b[0;34m\u001b[0m\u001b[0m\n\u001b[1;32m    270\u001b[0m             \u001b[0;32melif\u001b[0m \u001b[0;32mnot\u001b[0m \u001b[0mskip_invalid\u001b[0m\u001b[0;34m:\u001b[0m\u001b[0;34m\u001b[0m\u001b[0;34m\u001b[0m\u001b[0m\n\u001b[0;32m--> 271\u001b[0;31m                 \u001b[0;32mraise\u001b[0m \u001b[0mTypeError\u001b[0m\u001b[0;34m(\u001b[0m\u001b[0;34m\"invalid Figure property: {}\"\u001b[0m\u001b[0;34m.\u001b[0m\u001b[0mformat\u001b[0m\u001b[0;34m(\u001b[0m\u001b[0mk\u001b[0m\u001b[0;34m)\u001b[0m\u001b[0;34m)\u001b[0m\u001b[0;34m\u001b[0m\u001b[0;34m\u001b[0m\u001b[0m\n\u001b[0m\u001b[1;32m    272\u001b[0m \u001b[0;34m\u001b[0m\u001b[0m\n\u001b[1;32m    273\u001b[0m     \u001b[0;31m# Magic Methods\u001b[0m\u001b[0;34m\u001b[0m\u001b[0;34m\u001b[0m\u001b[0;34m\u001b[0m\u001b[0m\n",
      "\u001b[0;31mTypeError\u001b[0m: invalid Figure property: size"
     ]
    }
   ],
   "source": [
    "def main(year, month):\n",
    "    # read Earth to Sun files\n",
    "    e2s_file = InputFile(flag='0333', year=year, month=month, dir_path='..//output//')\n",
    "    e2s_file.path_list, e2s_file.output_filename, e2s_file.days = e2s_file.io_file_paths()\n",
    "    e2s_file.df = e2s_file.read_data('0333')\n",
    "\n",
    "    # read the gcrs satellite positions file\n",
    "    posi_file = InputFile(flag='0866', year=year,\n",
    "                         month=month, dir_path='..//output//')\n",
    "    posi_file.path_list, posi_file.output_filename, posi_file.days = posi_file.io_file_paths()\n",
    "    posi_file.df = posi_file.read_data('0866')\n",
    "\n",
    "    e2s20190916 = SolarOrbit('earth', 'sun', 'gcrs')\n",
    "    e2s20190916.get_position_vector(e2s_file.df)\n",
    "    e2s20190916.make_sun_centre()\n",
    "    e2s20190916.get_satellite_trajectory(posi_file.df)\n",
    "    e2s20190916.normalise_tractory()\n",
    "    \n",
    "    u, v = np.mgrid[0: 2 * np.pi: 100j, 0: np.pi: 100j]\n",
    "    x = np.cos(u) * np.sin(v)\n",
    "    y = np.sin(u) * np.sin(v)\n",
    "    z = np.cos(v)\n",
    "    \n",
    "    fig = go.Figure(data=[go.Surface(x=x, y=y, z=z, showscale=False)])\n",
    "    fig.update_layout()\n",
    "    fig.show()\n",
    "\n",
    "if __name__ == '__main__':\n",
    "    main(2019, 9)"
   ]
  }
 ],
 "metadata": {
  "kernelspec": {
   "display_name": "Python 3",
   "language": "python",
   "name": "python3"
  },
  "language_info": {
   "codemirror_mode": {
    "name": "ipython",
    "version": 3
   },
   "file_extension": ".py",
   "mimetype": "text/x-python",
   "name": "python",
   "nbconvert_exporter": "python",
   "pygments_lexer": "ipython3",
   "version": "3.8.6-final"
  }
 },
 "nbformat": 4,
 "nbformat_minor": 4
}